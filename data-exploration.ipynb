{
 "cells": [
  {
   "cell_type": "code",
   "execution_count": 1,
   "metadata": {},
   "outputs": [],
   "source": [
    "import pandas as pd\n",
    "import numpy as np\n",
    "import os\n",
    "import plotly.express as px\n",
    "from sklearn.linear_model import LinearRegression\n",
    "from scipy.stats import spearmanr"
   ]
  },
  {
   "cell_type": "code",
   "execution_count": 2,
   "metadata": {},
   "outputs": [
    {
     "name": "stdout",
     "output_type": "stream",
     "text": [
      "--2024-12-18 10:00:17--  https://raw.githubusercontent.com/andreaaraldo/machine-learning-for-networks/master/course_library/andrea_models.py\n",
      "Resolving raw.githubusercontent.com (raw.githubusercontent.com)... 185.199.108.133, 185.199.111.133, 185.199.109.133, ...\n",
      "Connecting to raw.githubusercontent.com (raw.githubusercontent.com)|185.199.108.133|:443... connected.\n",
      "HTTP request sent, awaiting response... 200 OK\n",
      "Length: 3190 (3.1K) [text/plain]\n",
      "Saving to: ‘andrea_models.py.1’\n",
      "\n",
      "andrea_models.py.1  100%[===================>]   3.12K  --.-KB/s    in 0s      \n",
      "\n",
      "2024-12-18 10:00:17 (37.8 MB/s) - ‘andrea_models.py.1’ saved [3190/3190]\n",
      "\n",
      "--2024-12-18 10:00:18--  https://raw.githubusercontent.com/andreaaraldo/machine-learning-for-networks/master/course_library/feature_engineering.py\n",
      "Resolving raw.githubusercontent.com (raw.githubusercontent.com)... 185.199.111.133, 185.199.108.133, 185.199.109.133, ...\n",
      "Connecting to raw.githubusercontent.com (raw.githubusercontent.com)|185.199.111.133|:443... connected.\n",
      "HTTP request sent, awaiting response... 200 OK\n",
      "Length: 2593 (2.5K) [text/plain]\n",
      "Saving to: ‘feature_engineering.py.1’\n",
      "\n",
      "feature_engineering 100%[===================>]   2.53K  --.-KB/s    in 0s      \n",
      "\n",
      "2024-12-18 10:00:18 (41.0 MB/s) - ‘feature_engineering.py.1’ saved [2593/2593]\n",
      "\n"
     ]
    }
   ],
   "source": [
    "!wget https://raw.githubusercontent.com/andreaaraldo/machine-learning-for-networks/master/course_library/andrea_models.py\n",
    "!wget https://raw.githubusercontent.com/andreaaraldo/machine-learning-for-networks/master/course_library/feature_engineering.py\n",
    "\n",
    "import feature_engineering"
   ]
  },
  {
   "cell_type": "code",
   "execution_count": 6,
   "metadata": {},
   "outputs": [],
   "source": [
    "data_path = './data/'\n",
    "df_X_train = pd.read_csv(data_path+'X_train.csv')#.drop(['COUNTRY'], axis=1).fillna(0) # given by the benchmark\n",
    "df_X_test = pd.read_csv(data_path+'X_test.csv')\n",
    "df_y_train = pd.read_csv(data_path+'Y_train.csv')"
   ]
  },
  {
   "cell_type": "code",
   "execution_count": 24,
   "metadata": {},
   "outputs": [
    {
     "data": {
      "text/html": [
       "<div>\n",
       "<style scoped>\n",
       "    .dataframe tbody tr th:only-of-type {\n",
       "        vertical-align: middle;\n",
       "    }\n",
       "\n",
       "    .dataframe tbody tr th {\n",
       "        vertical-align: top;\n",
       "    }\n",
       "\n",
       "    .dataframe thead th {\n",
       "        text-align: right;\n",
       "    }\n",
       "</style>\n",
       "<table border=\"1\" class=\"dataframe\">\n",
       "  <thead>\n",
       "    <tr style=\"text-align: right;\">\n",
       "      <th></th>\n",
       "      <th>ID</th>\n",
       "      <th>TARGET</th>\n",
       "    </tr>\n",
       "  </thead>\n",
       "  <tbody>\n",
       "    <tr>\n",
       "      <th>0</th>\n",
       "      <td>1054</td>\n",
       "      <td>0.028313</td>\n",
       "    </tr>\n",
       "    <tr>\n",
       "      <th>1</th>\n",
       "      <td>2049</td>\n",
       "      <td>-0.112516</td>\n",
       "    </tr>\n",
       "    <tr>\n",
       "      <th>2</th>\n",
       "      <td>1924</td>\n",
       "      <td>-0.180840</td>\n",
       "    </tr>\n",
       "    <tr>\n",
       "      <th>3</th>\n",
       "      <td>297</td>\n",
       "      <td>-0.260356</td>\n",
       "    </tr>\n",
       "    <tr>\n",
       "      <th>4</th>\n",
       "      <td>1101</td>\n",
       "      <td>-0.071733</td>\n",
       "    </tr>\n",
       "    <tr>\n",
       "      <th>...</th>\n",
       "      <td>...</td>\n",
       "      <td>...</td>\n",
       "    </tr>\n",
       "    <tr>\n",
       "      <th>1489</th>\n",
       "      <td>459</td>\n",
       "      <td>-0.172597</td>\n",
       "    </tr>\n",
       "    <tr>\n",
       "      <th>1490</th>\n",
       "      <td>1674</td>\n",
       "      <td>-0.063546</td>\n",
       "    </tr>\n",
       "    <tr>\n",
       "      <th>1491</th>\n",
       "      <td>748</td>\n",
       "      <td>0.151797</td>\n",
       "    </tr>\n",
       "    <tr>\n",
       "      <th>1492</th>\n",
       "      <td>1454</td>\n",
       "      <td>-0.640917</td>\n",
       "    </tr>\n",
       "    <tr>\n",
       "      <th>1493</th>\n",
       "      <td>359</td>\n",
       "      <td>-0.252764</td>\n",
       "    </tr>\n",
       "  </tbody>\n",
       "</table>\n",
       "<p>1494 rows × 2 columns</p>\n",
       "</div>"
      ],
      "text/plain": [
       "        ID    TARGET\n",
       "0     1054  0.028313\n",
       "1     2049 -0.112516\n",
       "2     1924 -0.180840\n",
       "3      297 -0.260356\n",
       "4     1101 -0.071733\n",
       "...    ...       ...\n",
       "1489   459 -0.172597\n",
       "1490  1674 -0.063546\n",
       "1491   748  0.151797\n",
       "1492  1454 -0.640917\n",
       "1493   359 -0.252764\n",
       "\n",
       "[1494 rows x 2 columns]"
      ]
     },
     "execution_count": 24,
     "metadata": {},
     "output_type": "execute_result"
    }
   ],
   "source": [
    "df_X_train[[\"ID\", \"DAY_ID\", \"COUNTRY\"]]\n",
    "df_X_train[[\"GAS_RET\", \"COAL_RET\", \"CARBON_RET\"]]\n",
    "df_X_train[[\"FR_TEMP\", \"FR_RAIN\", \"FR_WIND\"]]\n",
    "df_X_train[[\"FR_GAS\", \"FR_COAL\", \"FR_HYDRO\", \"FR_NUCLEAR\", \"FR_SOLAR\", \"FR_WINDPOW\", \"DE_LIGNITE\"]]\n",
    "df_X_train[[\"FR_CONSUMPTION\", \"FR_RESIDUAL_LOAD\", \"FR_NET_IMPORT\", \"FR_NET_EXPORT\", \"DE_FR_EXCHANGE\"]]\n",
    "df_y_train[[\"ID\", \"TARGET\"]]"
   ]
  },
  {
   "cell_type": "markdown",
   "metadata": {},
   "source": [
    "Search for constant feature"
   ]
  },
  {
   "cell_type": "code",
   "execution_count": 17,
   "metadata": {},
   "outputs": [
    {
     "name": "stdout",
     "output_type": "stream",
     "text": [
      "number of features : 34\n",
      "number of constant features : 0\n"
     ]
    }
   ],
   "source": [
    "non_constants_features = feature_engineering.low_var_features(df_X_train, threshold=0)\n",
    "print(f\"number of features : {df_X_train.shape[1]}\")\n",
    "print(f\"number of constant features : {df_X_train.shape[1] - len(non_constants_features)}\")"
   ]
  },
  {
   "cell_type": "markdown",
   "metadata": {},
   "source": [
    "Search for collinearity or quasi-collinearity"
   ]
  },
  {
   "cell_type": "code",
   "execution_count": 25,
   "metadata": {},
   "outputs": [
    {
     "data": {
      "text/plain": [
       "FR_NET_EXPORT   FR_NET_IMPORT      -1.000\n",
       "DE_NET_EXPORT   DE_NET_IMPORT      -1.000\n",
       "DE_FR_EXCHANGE  FR_DE_EXCHANGE     -1.000\n",
       "FR_CONSUMPTION  FR_RESIDUAL_LOAD    0.965\n",
       "DE_WIND         FR_WIND             0.821\n",
       "                                    ...  \n",
       "DAY_ID          DE_COAL            -0.001\n",
       "DE_COAL         COAL_RET            0.001\n",
       "DE_SOLAR        CARBON_RET          0.001\n",
       "ID              FR_RAIN            -0.001\n",
       "                COAL_RET           -0.000\n",
       "Length: 561, dtype: float64"
      ]
     },
     "execution_count": 25,
     "metadata": {},
     "output_type": "execute_result"
    }
   ],
   "source": [
    "most_correlated_features = feature_engineering.get_most_correlated(df_X_train)\n",
    "df_collinearity = most_correlated_features.reset_index()\n",
    "df_collinearity.columns = ['feature 1', 'feature 2', 'correlation']\n",
    "# df_collinearity.head(30)\n",
    "set_to_remove_1 = ['DE_NET_IMPORT', 'FR_NET_IMPORT', 'DE_FR_EXCHANGE', 'FR_RESIDUAL_LOAD']\n",
    "set_to_remove_2 = ['DE_NET_IMPORT', 'FR_NET_IMPORT', 'DE_FR_EXCHANGE', 'FR_RESIDUAL_LOAD', 'DE_WIND', 'DE_CONSUMPTION', 'DE_SOLAR', 'FR_CONSUMPTION']\n",
    "set_to_remove_3 = ['DE_NET_IMPORT', 'FR_NET_IMPORT', 'DE_FR_EXCHANGE', 'FR_RESIDUAL_LOAD', 'DE_WIND', 'DE_CONSUMPTION', 'DE_SOLAR', 'FR_CONSUMPTION', 'DE_RESIDUAL_LOAD', 'DE_NET_EXPORT', 'DE_LIGNITE']\n",
    "most_correlated_features"
   ]
  },
  {
   "cell_type": "code",
   "execution_count": null,
   "metadata": {},
   "outputs": [],
   "source": [
    "most_correlated_features_v2"
   ]
  },
  {
   "cell_type": "code",
   "execution_count": 52,
   "metadata": {},
   "outputs": [
    {
     "data": {
      "text/plain": [
       "DE_WIND         FR_WIND             0.821\n",
       "DE_CONSUMPTION  FR_CONSUMPTION      0.813\n",
       "DE_SOLAR        FR_SOLAR            0.803\n",
       "FR_CONSUMPTION  FR_GAS              0.780\n",
       "DE_NET_EXPORT   DE_WINDPOW          0.731\n",
       "DE_COAL         DE_LIGNITE          0.726\n",
       "DE_GAS          DE_RESIDUAL_LOAD    0.715\n",
       "DE_LIGNITE      DE_RESIDUAL_LOAD    0.714\n",
       "DE_WINDPOW      DE_RESIDUAL_LOAD   -0.706\n",
       "FR_CONSUMPTION  FR_NUCLEAR          0.706\n",
       "                DE_SOLAR           -0.691\n",
       "FR_DE_EXCHANGE  DE_NET_EXPORT      -0.686\n",
       "DE_TEMP         FR_TEMP             0.680\n",
       "DE_COAL         DE_RESIDUAL_LOAD    0.672\n",
       "FR_DE_EXCHANGE  FR_NET_EXPORT       0.669\n",
       "dtype: float64"
      ]
     },
     "execution_count": 52,
     "metadata": {},
     "output_type": "execute_result"
    }
   ],
   "source": [
    "most_correlated_features_v2 = feature_engineering.get_most_correlated(df_X_train[[col for col in df_X_train.columns if col not in set_to_remove_1]])\n",
    "col_selection_1 = [col for col in df_X_train.columns if col not in set_to_remove_1]\n",
    "most_correlated_features_v2.head(15)"
   ]
  },
  {
   "cell_type": "code",
   "execution_count": 53,
   "metadata": {},
   "outputs": [
    {
     "data": {
      "text/plain": [
       "DE_NET_EXPORT   DE_WINDPOW          0.731\n",
       "DE_COAL         DE_LIGNITE          0.726\n",
       "DE_GAS          DE_RESIDUAL_LOAD    0.715\n",
       "DE_LIGNITE      DE_RESIDUAL_LOAD    0.714\n",
       "DE_WINDPOW      DE_RESIDUAL_LOAD   -0.706\n",
       "FR_DE_EXCHANGE  DE_NET_EXPORT      -0.686\n",
       "DE_TEMP         FR_TEMP             0.680\n",
       "DE_COAL         DE_RESIDUAL_LOAD    0.672\n",
       "FR_DE_EXCHANGE  FR_NET_EXPORT       0.669\n",
       "DE_NUCLEAR      FR_NUCLEAR          0.659\n",
       "FR_NUCLEAR      FR_SOLAR           -0.648\n",
       "DE_WINDPOW      FR_WINDPOW          0.637\n",
       "DE_GAS          FR_GAS              0.604\n",
       "DE_COAL         FR_COAL             0.598\n",
       "FR_GAS          DE_COAL             0.539\n",
       "dtype: float64"
      ]
     },
     "execution_count": 53,
     "metadata": {},
     "output_type": "execute_result"
    }
   ],
   "source": [
    "most_correlated_features_v2 = feature_engineering.get_most_correlated(df_X_train[[col for col in df_X_train.columns if col not in set_to_remove_2]])\n",
    "col_selection_2 = [col for col in df_X_train.columns if col not in set_to_remove_2]\n",
    "most_correlated_features_v2.head(15)"
   ]
  },
  {
   "cell_type": "code",
   "execution_count": 64,
   "metadata": {},
   "outputs": [
    {
     "data": {
      "text/plain": [
       "DE_TEMP         FR_TEMP          0.680\n",
       "FR_DE_EXCHANGE  FR_NET_EXPORT    0.669\n",
       "DE_NUCLEAR      FR_NUCLEAR       0.659\n",
       "FR_NUCLEAR      FR_SOLAR        -0.648\n",
       "DE_WINDPOW      FR_WINDPOW       0.637\n",
       "DE_GAS          FR_GAS           0.604\n",
       "DE_COAL         FR_COAL          0.598\n",
       "FR_GAS          DE_COAL          0.539\n",
       "FR_HYDRO        FR_NUCLEAR       0.533\n",
       "DE_NUCLEAR      FR_SOLAR        -0.487\n",
       "FR_DE_EXCHANGE  FR_GAS          -0.467\n",
       "FR_NET_EXPORT   DE_NUCLEAR       0.458\n",
       "DE_NUCLEAR      FR_WIND         -0.458\n",
       "FR_GAS          FR_SOLAR        -0.456\n",
       "FR_NET_EXPORT   FR_GAS          -0.454\n",
       "dtype: float64"
      ]
     },
     "execution_count": 64,
     "metadata": {},
     "output_type": "execute_result"
    }
   ],
   "source": [
    "most_correlated_features_v3 = feature_engineering.get_most_correlated(df_X_train[[col for col in df_X_train.columns if col not in set_to_remove_3]])\n",
    "col_selection_3 = [col for col in df_X_train.columns if col not in set_to_remove_3]\n",
    "most_correlated_features_v3.head(15)"
   ]
  },
  {
   "cell_type": "code",
   "execution_count": 67,
   "metadata": {},
   "outputs": [],
   "source": [
    "df_X_train_1 = df_X_train.set_index(['ID', 'DAY_ID'])\n",
    "df_X_train_2 = df_X_train[col_selection_1].set_index(['ID', 'DAY_ID'])\n",
    "df_X_train_3 = df_X_train[col_selection_2].set_index(['ID', 'DAY_ID'])\n",
    "df_X_train_4 = df_X_train[col_selection_3].set_index(['ID', 'DAY_ID'])"
   ]
  },
  {
   "cell_type": "code",
   "execution_count": 56,
   "metadata": {},
   "outputs": [
    {
     "name": "stdout",
     "output_type": "stream",
     "text": [
      "Spearman correlation for the train set: 27.6%\n"
     ]
    }
   ],
   "source": [
    "lr = LinearRegression()\n",
    "\n",
    "Y_train_clean = df_y_train['TARGET']\n",
    "\n",
    "lr.fit(df_X_train_1, Y_train_clean)\n",
    "\n",
    "output_train = lr.predict(df_X_train_1)\n",
    "\n",
    "def metric_train(output):\n",
    "    return  spearmanr(output, Y_train_clean).correlation\n",
    "\n",
    "print('Spearman correlation for the train set: {:.1f}%'.format(100 * metric_train(output_train) ))"
   ]
  },
  {
   "cell_type": "code",
   "execution_count": 57,
   "metadata": {},
   "outputs": [
    {
     "name": "stdout",
     "output_type": "stream",
     "text": [
      "Spearman correlation for the train set: 27.7%\n"
     ]
    }
   ],
   "source": [
    "lr = LinearRegression()\n",
    "\n",
    "Y_train_clean = df_y_train['TARGET']\n",
    "\n",
    "lr.fit(df_X_train_2, Y_train_clean)\n",
    "\n",
    "output_train = lr.predict(df_X_train_2)\n",
    "\n",
    "def metric_train(output):\n",
    "    return  spearmanr(output, Y_train_clean).correlation\n",
    "\n",
    "print('Spearman correlation for the train set: {:.1f}%'.format(100 * metric_train(output_train) ))"
   ]
  },
  {
   "cell_type": "code",
   "execution_count": 58,
   "metadata": {},
   "outputs": [
    {
     "name": "stdout",
     "output_type": "stream",
     "text": [
      "Spearman correlation for the train set: 27.4%\n"
     ]
    }
   ],
   "source": [
    "lr = LinearRegression()\n",
    "\n",
    "Y_train_clean = df_y_train['TARGET']\n",
    "\n",
    "lr.fit(df_X_train_3, Y_train_clean)\n",
    "\n",
    "output_train = lr.predict(df_X_train_3)\n",
    "\n",
    "def metric_train(output):\n",
    "    return  spearmanr(output, Y_train_clean).correlation\n",
    "\n",
    "print('Spearman correlation for the train set: {:.1f}%'.format(100 * metric_train(output_train) ))"
   ]
  },
  {
   "cell_type": "code",
   "execution_count": 68,
   "metadata": {},
   "outputs": [
    {
     "name": "stdout",
     "output_type": "stream",
     "text": [
      "Spearman correlation for the train set: 24.2%\n"
     ]
    }
   ],
   "source": [
    "lr = LinearRegression()\n",
    "\n",
    "Y_train_clean = df_y_train['TARGET']\n",
    "\n",
    "lr.fit(df_X_train_4, Y_train_clean)\n",
    "\n",
    "output_train = lr.predict(df_X_train_4)\n",
    "\n",
    "def metric_train(output):\n",
    "    return  spearmanr(output, Y_train_clean).correlation\n",
    "\n",
    "print('Spearman correlation for the train set: {:.1f}%'.format(100 * metric_train(output_train) ))"
   ]
  },
  {
   "cell_type": "markdown",
   "metadata": {},
   "source": [
    "We obtain the best spearman's correlation with removing only a few features that have correlation with other variable higher than 0.95"
   ]
  },
  {
   "cell_type": "markdown",
   "metadata": {},
   "source": [
    "<h3>CROSS-VALIDATION</h3>"
   ]
  },
  {
   "cell_type": "code",
   "execution_count": 72,
   "metadata": {},
   "outputs": [
    {
     "name": "stdout",
     "output_type": "stream",
     "text": [
      "Fold 0: \n",
      "  Train: index=[   1    3    4 ... 1490 1491 1492]\n",
      "  Test: index=[   0    2   11   12   14   15   21   24   33   37   40   50   55   56\n",
      "   58   59   71   73   79   83   88   92   93   98  102  105  109  111\n",
      "  117  132  136  137  140  148  150  152  155  168  171  178  179  186\n",
      "  191  195  208  219  222  223  225  229  231  238  245  250  256  257\n",
      "  261  263  264  268  286  287  290  291  302  304  307  313  329  336\n",
      "  338  343  357  359  363  371  375  379  381  386  387  399  406  408\n",
      "  421  430  432  433  434  436  438  439  444  463  465  477  478  486\n",
      "  488  500  502  503  504  510  511  512  515  517  523  531  553  562\n",
      "  563  568  570  581  588  592  595  600  602  605  607  608  610  616\n",
      "  626  628  629  633  646  648  649  682  686  690  702  708  711  718\n",
      "  733  735  737  739  741  751  752  756  757  761  764  765  767  771\n",
      "  775  777  785  793  794  796  801  804  811  822  826  830  832  836\n",
      "  843  851  855  865  874  875  877  883  885  888  894  902  904  905\n",
      "  925  927  930  937  941  943  951  955  961  979  986  990  992 1024\n",
      " 1030 1031 1041 1051 1053 1056 1061 1071 1077 1085 1091 1093 1101 1103\n",
      " 1104 1108 1113 1116 1121 1124 1125 1129 1135 1136 1137 1138 1159 1161\n",
      " 1163 1164 1165 1167 1169 1170 1171 1177 1182 1193 1196 1216 1219 1226\n",
      " 1232 1239 1240 1247 1249 1258 1259 1263 1266 1270 1275 1279 1282 1289\n",
      " 1295 1303 1306 1312 1317 1321 1323 1331 1335 1341 1353 1359 1361 1364\n",
      " 1368 1369 1377 1379 1380 1381 1387 1390 1393 1398 1403 1410 1412 1413\n",
      " 1415 1422 1426 1433 1436 1437 1438 1441 1442 1444 1446 1454 1455 1468\n",
      " 1471 1475 1478 1485 1493]\n",
      "Fold 1: \n",
      "  Train: index=[   0    1    2 ... 1491 1492 1493]\n",
      "  Test: index=[   4   17   20   22   31   35   43   52   65   66   78   80   85   87\n",
      "   94  112  113  115  116  122  123  134  141  142  156  157  160  161\n",
      "  163  165  169  176  177  182  184  187  196  199  201  203  212  215\n",
      "  221  228  230  232  235  239  241  243  259  260  273  276  277  278\n",
      "  282  288  292  294  298  303  308  311  312  325  330  341  368  374\n",
      "  378  390  394  396  398  400  401  402  412  415  427  429  435  440\n",
      "  441  450  454  457  458  459  460  461  462  481  484  493  496  498\n",
      "  499  508  516  519  522  524  525  526  528  529  534  539  543  544\n",
      "  545  560  571  578  584  590  593  596  597  603  613  619  620  630\n",
      "  636  645  651  652  665  666  668  669  670  672  674  681  691  694\n",
      "  700  701  706  719  722  729  732  742  743  754  755  760  762  763\n",
      "  769  772  774  776  782  795  797  798  803  810  813  815  816  820\n",
      "  821  846  847  849  850  861  862  868  872  878  881  882  890  891\n",
      "  892  898  899  900  908  909  911  916  919  924  934  935  936  945\n",
      "  947  949  954  957  971  973  989  993  995  996  998 1000 1002 1005\n",
      " 1006 1022 1026 1032 1033 1036 1049 1058 1064 1068 1072 1076 1083 1092\n",
      " 1095 1097 1098 1105 1111 1114 1115 1117 1133 1152 1174 1184 1188 1194\n",
      " 1202 1211 1214 1225 1233 1234 1236 1237 1243 1245 1250 1253 1254 1255\n",
      " 1256 1264 1267 1272 1273 1276 1283 1285 1291 1298 1299 1307 1311 1314\n",
      " 1320 1333 1334 1336 1339 1343 1351 1355 1356 1358 1367 1371 1376 1391\n",
      " 1394 1397 1401 1402 1409 1411 1418 1428 1429 1431 1432 1447 1448 1450\n",
      " 1459 1460 1465 1466 1480]\n",
      "Fold 2: \n",
      "  Train: index=[   0    2    3 ... 1491 1492 1493]\n",
      "  Test: index=[   1    8   10   13   23   25   28   30   32   41   45   46   51   63\n",
      "   70   72   91   96  103  106  107  108  121  135  153  158  162  166\n",
      "  173  180  181  183  185  188  190  193  200  202  205  207  210  226\n",
      "  237  240  242  248  252  254  255  266  269  270  274  279  280  296\n",
      "  299  300  306  315  316  328  331  332  337  340  344  345  348  349\n",
      "  350  353  356  358  362  365  366  367  373  376  382  384  385  395\n",
      "  397  403  405  407  409  424  426  443  464  470  476  480  483  487\n",
      "  489  492  494  514  521  530  532  533  541  542  548  550  557  565\n",
      "  566  569  575  576  587  591  604  612  614  615  627  634  635  640\n",
      "  642  650  653  655  663  675  676  678  683  687  689  705  707  710\n",
      "  712  715  720  723  726  728  744  747  748  753  758  759  784  789\n",
      "  792  799  800  805  806  809  818  827  831  833  834  839  840  844\n",
      "  852  854  856  867  870  879  884  893  910  921  922  923  931  933\n",
      "  953  960  963  966  967  968  969  974  976  977  983  994  999 1008\n",
      " 1013 1014 1028 1029 1035 1037 1038 1039 1050 1057 1060 1062 1066 1067\n",
      " 1070 1075 1078 1079 1080 1088 1107 1110 1112 1119 1122 1123 1127 1141\n",
      " 1142 1145 1146 1150 1155 1156 1158 1162 1166 1172 1176 1179 1186 1189\n",
      " 1191 1199 1200 1203 1205 1206 1212 1213 1222 1227 1229 1231 1235 1241\n",
      " 1246 1252 1257 1262 1269 1274 1280 1281 1284 1287 1296 1297 1304 1309\n",
      " 1310 1315 1324 1329 1332 1344 1347 1349 1352 1362 1363 1370 1375 1383\n",
      " 1385 1404 1408 1414 1417 1420 1424 1427 1435 1462 1463 1464 1473 1476\n",
      " 1477 1479 1487 1489 1490]\n",
      "Fold 3: \n",
      "  Train: index=[   0    1    2 ... 1490 1492 1493]\n",
      "  Test: index=[   6    7   16   18   19   27   44   48   49   53   60   61   69   74\n",
      "   76   81   82   86   90   95  110  114  118  119  124  126  128  131\n",
      "  133  138  143  145  146  154  159  164  174  175  189  192  211  214\n",
      "  217  218  220  224  236  244  247  249  253  265  267  271  275  281\n",
      "  289  295  297  301  305  309  310  314  317  323  334  346  351  354\n",
      "  355  360  361  364  369  372  383  388  392  393  410  414  416  417\n",
      "  418  419  420  422  428  437  442  445  446  447  448  452  468  471\n",
      "  472  473  482  497  505  507  509  520  538  540  551  556  558  561\n",
      "  573  574  577  579  582  583  585  586  589  594  601  606  609  617\n",
      "  621  623  624  625  631  641  643  647  657  658  659  660  661  667\n",
      "  679  692  695  696  698  704  714  716  717  721  724  725  727  730\n",
      "  734  736  738  740  745  766  780  781  786  787  808  812  819  823\n",
      "  824  825  829  835  837  838  841  842  845  853  857  858  859  860\n",
      "  866  871  880  886  887  889  895  897  913  915  920  926  928  948\n",
      "  956  958  959  962  970  972  975  985  988  997 1004 1007 1011 1012\n",
      " 1015 1016 1017 1020 1023 1034 1040 1043 1044 1046 1052 1054 1063 1065\n",
      " 1073 1089 1090 1096 1109 1120 1130 1131 1139 1140 1151 1154 1160 1168\n",
      " 1175 1178 1180 1183 1187 1190 1192 1195 1197 1201 1207 1209 1220 1223\n",
      " 1224 1230 1242 1248 1251 1261 1265 1268 1271 1277 1286 1290 1293 1300\n",
      " 1302 1318 1326 1328 1338 1342 1345 1348 1350 1354 1360 1366 1378 1384\n",
      " 1388 1392 1395 1396 1400 1423 1430 1440 1443 1452 1456 1458 1467 1472\n",
      " 1481 1482 1483 1484 1491]\n",
      "Fold 4: \n",
      "  Train: index=[   0    1    2 ... 1490 1491 1493]\n",
      "  Test: index=[   3    5    9   26   29   34   36   38   39   42   47   54   57   62\n",
      "   64   67   68   75   77   84   89   97   99  100  101  104  120  125\n",
      "  127  129  130  139  144  147  149  151  167  170  172  194  197  198\n",
      "  204  206  209  213  216  227  233  234  246  251  258  262  272  283\n",
      "  284  285  293  318  319  320  321  322  324  326  327  333  335  339\n",
      "  342  347  352  370  377  380  389  391  404  411  413  423  425  431\n",
      "  449  451  453  455  456  466  467  469  474  475  479  485  490  491\n",
      "  495  501  506  513  518  527  535  536  537  546  547  549  552  554\n",
      "  555  559  564  567  572  580  598  599  611  618  622  632  637  638\n",
      "  639  644  654  656  662  664  671  673  677  680  684  685  688  693\n",
      "  697  699  703  709  713  731  746  749  750  768  770  773  778  779\n",
      "  783  788  790  791  802  807  814  817  828  848  863  864  869  873\n",
      "  876  896  901  903  906  907  912  914  917  918  929  932  938  939\n",
      "  940  942  944  946  950  952  964  965  978  980  981  982  984  987\n",
      "  991 1001 1003 1009 1010 1018 1019 1021 1025 1027 1042 1045 1047 1048\n",
      " 1055 1059 1069 1074 1081 1082 1084 1086 1087 1094 1099 1100 1102 1106\n",
      " 1118 1126 1128 1132 1134 1143 1144 1147 1148 1149 1153 1157 1173 1181\n",
      " 1185 1198 1204 1208 1210 1215 1217 1218 1221 1228 1238 1244 1260 1278\n",
      " 1288 1292 1294 1301 1305 1308 1313 1316 1319 1322 1325 1327 1330 1337\n",
      " 1340 1346 1357 1365 1372 1373 1374 1382 1386 1389 1399 1405 1406 1407\n",
      " 1416 1419 1421 1425 1434 1439 1445 1449 1451 1453 1457 1461 1469 1470\n",
      " 1474 1486 1488 1492]\n"
     ]
    }
   ],
   "source": [
    "from sklearn.model_selection import KFold\n",
    "\n",
    "k_fold = KFold(n_splits=5, shuffle=True, random_state=6)\n",
    "\n",
    "for i, (train_index, test_index) in enumerate(k_fold.split(df_X_train_2)):\n",
    "    print(f\"Fold {i}: \")\n",
    "    print(f\"  Train: index={train_index}\")\n",
    "    print(f\"  Test: index={test_index}\")"
   ]
  },
  {
   "cell_type": "code",
   "execution_count": 77,
   "metadata": {},
   "outputs": [
    {
     "name": "stdout",
     "output_type": "stream",
     "text": [
      "0.00599742541935675\n",
      "0.025925683319626934\n"
     ]
    }
   ],
   "source": [
    "from sklearn.model_selection import cross_val_score\n",
    "\n",
    "lr = LinearRegression()\n",
    "\n",
    "scores = cross_val_score(lr, df_X_train_2, Y_train_clean, cv=k_fold)#, scoring='neg_mean_squared_log_error')\n",
    "print(scores.mean())\n",
    "print(scores.std())"
   ]
  },
  {
   "cell_type": "markdown",
   "metadata": {},
   "source": [
    "Mean squared logarithmic error cannot be used when targets contain negative values. Same goes for Root mean squared logarithmic error"
   ]
  }
 ],
 "metadata": {
  "kernelspec": {
   "display_name": ".venv",
   "language": "python",
   "name": "python3"
  },
  "language_info": {
   "codemirror_mode": {
    "name": "ipython",
    "version": 3
   },
   "file_extension": ".py",
   "mimetype": "text/x-python",
   "name": "python",
   "nbconvert_exporter": "python",
   "pygments_lexer": "ipython3",
   "version": "3.12.3"
  }
 },
 "nbformat": 4,
 "nbformat_minor": 2
}
